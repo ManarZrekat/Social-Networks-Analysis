{
 "cells": [
  {
   "cell_type": "markdown",
   "id": "6e3e8cc9",
   "metadata": {},
   "source": [
    "# **Calls Network**"
   ]
  },
  {
   "cell_type": "code",
   "execution_count": 41,
   "id": "52242fc2",
   "metadata": {},
   "outputs": [],
   "source": [
    "import pandas as pd\n",
    "import numpy as np \n",
    "import csv\n",
    "import networkx as nx\n",
    "import matplotlib.pyplot as plt"
   ]
  },
  {
   "cell_type": "code",
   "execution_count": 30,
   "id": "fcc4b963",
   "metadata": {},
   "outputs": [],
   "source": [
    "calls_file = \"calls.csv\"\n",
    "genders_file = \"genders.csv\""
   ]
  },
  {
   "cell_type": "markdown",
   "id": "54ea7ba2",
   "metadata": {},
   "source": [
    "# **Nodes**"
   ]
  },
  {
   "cell_type": "code",
   "execution_count": 31,
   "id": "e0130481",
   "metadata": {},
   "outputs": [
    {
     "data": {
      "text/html": [
       "<div>\n",
       "<style scoped>\n",
       "    .dataframe tbody tr th:only-of-type {\n",
       "        vertical-align: middle;\n",
       "    }\n",
       "\n",
       "    .dataframe tbody tr th {\n",
       "        vertical-align: top;\n",
       "    }\n",
       "\n",
       "    .dataframe thead th {\n",
       "        text-align: right;\n",
       "    }\n",
       "</style>\n",
       "<table border=\"1\" class=\"dataframe\">\n",
       "  <thead>\n",
       "    <tr style=\"text-align: right;\">\n",
       "      <th></th>\n",
       "      <th># user</th>\n",
       "      <th>female</th>\n",
       "    </tr>\n",
       "  </thead>\n",
       "  <tbody>\n",
       "    <tr>\n",
       "      <th>0</th>\n",
       "      <td>0</td>\n",
       "      <td>0</td>\n",
       "    </tr>\n",
       "    <tr>\n",
       "      <th>1</th>\n",
       "      <td>2</td>\n",
       "      <td>0</td>\n",
       "    </tr>\n",
       "    <tr>\n",
       "      <th>2</th>\n",
       "      <td>3</td>\n",
       "      <td>0</td>\n",
       "    </tr>\n",
       "    <tr>\n",
       "      <th>3</th>\n",
       "      <td>4</td>\n",
       "      <td>0</td>\n",
       "    </tr>\n",
       "    <tr>\n",
       "      <th>4</th>\n",
       "      <td>5</td>\n",
       "      <td>0</td>\n",
       "    </tr>\n",
       "  </tbody>\n",
       "</table>\n",
       "</div>"
      ],
      "text/plain": [
       "   # user  female\n",
       "0       0       0\n",
       "1       2       0\n",
       "2       3       0\n",
       "3       4       0\n",
       "4       5       0"
      ]
     },
     "execution_count": 31,
     "metadata": {},
     "output_type": "execute_result"
    }
   ],
   "source": [
    "gender_df = pd.read_csv(genders_file)\n",
    "gender_df.head()"
   ]
  },
  {
   "cell_type": "code",
   "execution_count": 32,
   "id": "18ee6196",
   "metadata": {},
   "outputs": [],
   "source": [
    "gender_df = gender_df.rename(columns={'# user' : 'user'})"
   ]
  },
  {
   "cell_type": "code",
   "execution_count": 33,
   "id": "e5069434",
   "metadata": {},
   "outputs": [
    {
     "data": {
      "text/plain": [
       "0    614\n",
       "1    173\n",
       "Name: female, dtype: int64"
      ]
     },
     "execution_count": 33,
     "metadata": {},
     "output_type": "execute_result"
    }
   ],
   "source": [
    "gender_df['female'].value_counts()"
   ]
  },
  {
   "cell_type": "code",
   "execution_count": 37,
   "id": "079bc22e",
   "metadata": {},
   "outputs": [
    {
     "data": {
      "text/plain": [
       "([<matplotlib.patches.Wedge at 0x15e74223790>,\n",
       "  <matplotlib.patches.Wedge at 0x15e74223e80>],\n",
       " [Text(-0.7006926077430178, -0.8479562898253008, 'male'),\n",
       "  Text(0.7643919357196559, 0.9250432252639644, 'female')],\n",
       " [Text(-0.38219596785982785, -0.4625216126319822, '78.0%'),\n",
       "  Text(0.4458952958364659, 0.5396085480706458, '22.0%')])"
      ]
     },
     "execution_count": 37,
     "metadata": {},
     "output_type": "execute_result"
    },
    {
     "data": {
      "image/png": "[encoded data removed]",
      "text/plain": [
       "<Figure size 432x288 with 1 Axes>"
      ]
     },
     "metadata": {},
     "output_type": "display_data"
    }
   ],
   "source": [
    "plt.pie(x=gender_df['female'].value_counts() ,\n",
    "               explode=(0, 0.1), labels = ['male','female'],\n",
    "               colors=['#66b3ff','#ff9999'],autopct='%1.1f%%',startangle=90)"
   ]
  },
  {
   "cell_type": "markdown",
   "id": "494e103b",
   "metadata": {},
   "source": [
    "# Edges"
   ]
  },
  {
   "cell_type": "code",
   "execution_count": 38,
   "id": "063c3479",
   "metadata": {},
   "outputs": [
    {
     "data": {
      "text/html": [
       "<div>\n",
       "<style scoped>\n",
       "    .dataframe tbody tr th:only-of-type {\n",
       "        vertical-align: middle;\n",
       "    }\n",
       "\n",
       "    .dataframe tbody tr th {\n",
       "        vertical-align: top;\n",
       "    }\n",
       "\n",
       "    .dataframe thead th {\n",
       "        text-align: right;\n",
       "    }\n",
       "</style>\n",
       "<table border=\"1\" class=\"dataframe\">\n",
       "  <thead>\n",
       "    <tr style=\"text-align: right;\">\n",
       "      <th></th>\n",
       "      <th>timestamp</th>\n",
       "      <th>caller</th>\n",
       "      <th>callee</th>\n",
       "      <th>duration</th>\n",
       "    </tr>\n",
       "  </thead>\n",
       "  <tbody>\n",
       "    <tr>\n",
       "      <th>0</th>\n",
       "      <td>184</td>\n",
       "      <td>300</td>\n",
       "      <td>301</td>\n",
       "      <td>121</td>\n",
       "    </tr>\n",
       "    <tr>\n",
       "      <th>1</th>\n",
       "      <td>3920</td>\n",
       "      <td>512</td>\n",
       "      <td>299</td>\n",
       "      <td>670</td>\n",
       "    </tr>\n",
       "    <tr>\n",
       "      <th>2</th>\n",
       "      <td>5623</td>\n",
       "      <td>301</td>\n",
       "      <td>300</td>\n",
       "      <td>504</td>\n",
       "    </tr>\n",
       "    <tr>\n",
       "      <th>3</th>\n",
       "      <td>9252</td>\n",
       "      <td>401</td>\n",
       "      <td>457</td>\n",
       "      <td>-1</td>\n",
       "    </tr>\n",
       "    <tr>\n",
       "      <th>4</th>\n",
       "      <td>15466</td>\n",
       "      <td>512</td>\n",
       "      <td>0</td>\n",
       "      <td>5</td>\n",
       "    </tr>\n",
       "    <tr>\n",
       "      <th>...</th>\n",
       "      <td>...</td>\n",
       "      <td>...</td>\n",
       "      <td>...</td>\n",
       "      <td>...</td>\n",
       "    </tr>\n",
       "    <tr>\n",
       "      <th>3595</th>\n",
       "      <td>2414934</td>\n",
       "      <td>706</td>\n",
       "      <td>401</td>\n",
       "      <td>78</td>\n",
       "    </tr>\n",
       "    <tr>\n",
       "      <th>3596</th>\n",
       "      <td>2415585</td>\n",
       "      <td>218</td>\n",
       "      <td>382</td>\n",
       "      <td>48</td>\n",
       "    </tr>\n",
       "    <tr>\n",
       "      <th>3597</th>\n",
       "      <td>2416059</td>\n",
       "      <td>561</td>\n",
       "      <td>631</td>\n",
       "      <td>13</td>\n",
       "    </tr>\n",
       "    <tr>\n",
       "      <th>3598</th>\n",
       "      <td>2416368</td>\n",
       "      <td>323</td>\n",
       "      <td>392</td>\n",
       "      <td>4</td>\n",
       "    </tr>\n",
       "    <tr>\n",
       "      <th>3599</th>\n",
       "      <td>2416399</td>\n",
       "      <td>323</td>\n",
       "      <td>392</td>\n",
       "      <td>3</td>\n",
       "    </tr>\n",
       "  </tbody>\n",
       "</table>\n",
       "<p>3600 rows × 4 columns</p>\n",
       "</div>"
      ],
      "text/plain": [
       "      timestamp  caller  callee  duration\n",
       "0           184     300     301       121\n",
       "1          3920     512     299       670\n",
       "2          5623     301     300       504\n",
       "3          9252     401     457        -1\n",
       "4         15466     512       0         5\n",
       "...         ...     ...     ...       ...\n",
       "3595    2414934     706     401        78\n",
       "3596    2415585     218     382        48\n",
       "3597    2416059     561     631        13\n",
       "3598    2416368     323     392         4\n",
       "3599    2416399     323     392         3\n",
       "\n",
       "[3600 rows x 4 columns]"
      ]
     },
     "execution_count": 38,
     "metadata": {},
     "output_type": "execute_result"
    }
   ],
   "source": [
    "calls_df = pd.read_csv(calls_file)\n",
    "calls_df"
   ]
  },
  {
   "cell_type": "markdown",
   "id": "46a4c3e0",
   "metadata": {},
   "source": [
    "**Cleaning the data**\n",
    "\n",
    "when the duration of the call is -1, then this means the receiver did not pick up the phone, we can keep it, but when\n",
    "we calculate the average duration, we should not add it to the calculation."
   ]
  },
  {
   "cell_type": "code",
   "execution_count": null,
   "id": "15384257",
   "metadata": {},
   "outputs": [],
   "source": []
  },
  {
   "cell_type": "code",
   "execution_count": null,
   "id": "ea4d8cce",
   "metadata": {},
   "outputs": [],
   "source": []
  },
  {
   "cell_type": "code",
   "execution_count": null,
   "id": "05d092c4",
   "metadata": {},
   "outputs": [],
   "source": [
    "nodes = gender_df['user'].to_list() # list of all nodes\n",
    "calls_edges = [tuple(e) for e in zip(calls_df['caller'].to_list(), calls_df['callee'].to_list())] # list of all edges"
   ]
  },
  {
   "cell_type": "markdown",
   "id": "f6e4835b",
   "metadata": {},
   "source": [
    "# **The average interactions between:**\n",
    " - Females to Females\n",
    " - Females to Males"
   ]
  },
  {
   "cell_type": "code",
   "execution_count": 39,
   "id": "f81d1b97",
   "metadata": {},
   "outputs": [
    {
     "name": "stdout",
     "output_type": "stream",
     "text": [
      "Number of calls made by a female is 2532\n",
      "Number of calls received by a female is 1955\n",
      "Number of calls received by a male is 577\n"
     ]
    }
   ],
   "source": [
    "female_counter = 0 \n",
    "male_counter = 0\n",
    "counter = 0\n",
    "avg_duration_m = 0\n",
    "avg_duration_f = 0\n",
    "sum_m = 0\n",
    "sum_f = 0\n",
    "for i,row in calls_df.iterrows():\n",
    "    caller =row['caller']\n",
    "    receiver = row['callee']\n",
    "    #print(caller)\n",
    "    #new_gender_df.loc[new_gender_df['Id'] == caller,'female'].item()\n",
    "    \n",
    "    if caller in gender_df['user'].to_list() and receiver in gender_df['user'].to_list():\n",
    "         if gender_df.loc[gender_df['user']==caller,'female'].item() == 0:\n",
    "                counter += 1\n",
    "                if gender_df.loc[gender_df['user']==receiver,'female'].item() == 0:\n",
    "                    female_counter += 1\n",
    "                    if row['duration']>0:\n",
    "                        sum_f += row['duration']\n",
    "                if gender_df.loc[gender_df['user']==receiver,'female'].item() == 1:\n",
    "                    male_counter += 1\n",
    "                    if row['duration']>0:\n",
    "                        sum_m += row['duration']\n",
    "print(\"Number of calls made by a female is \" + str(counter))   \n",
    "print(\"Number of calls received by a female is \" + str(female_counter)) \n",
    "print(\"Number of calls received by a male is \" + str(male_counter))"
   ]
  },
  {
   "cell_type": "markdown",
   "id": "c817d24c",
   "metadata": {},
   "source": [
    "Plotting the percentages of calls made by a female to a male and to a female"
   ]
  },
  {
   "cell_type": "code",
   "execution_count": 43,
   "id": "b4e4ddf0",
   "metadata": {},
   "outputs": [
    {
     "data": {
      "text/plain": [
       "([<matplotlib.patches.Wedge at 0x15e75332fd0>,\n",
       "  <matplotlib.patches.Wedge at 0x15e75340700>],\n",
       " [Text(-0.7219395834466379, 0.8299417075029397, 'male'),\n",
       "  Text(0.7875704546690593, -0.9053909536395708, 'female')],\n",
       " [Text(-0.3937852273345297, 0.4526954768197852, '22.8%'),\n",
       "  Text(0.45941609855695126, -0.5281447229564162, '77.2%')])"
      ]
     },
     "execution_count": 43,
     "metadata": {},
     "output_type": "execute_result"
    },
    {
     "data": {
      "image/png": "[encoded data removed]",
      "text/plain": [
       "<Figure size 432x288 with 1 Axes>"
      ]
     },
     "metadata": {},
     "output_type": "display_data"
    }
   ],
   "source": [
    "y = np.array([male_counter,female_counter])\n",
    "\n",
    "plt.pie(x= y,\n",
    "               explode=(0, 0.1), labels = ['male','female'],\n",
    "               colors=['#66b3ff','#ff9999'],autopct='%1.1f%%',startangle=90)"
   ]
  },
  {
   "cell_type": "markdown",
   "id": "f145d6e1",
   "metadata": {},
   "source": [
    "**Calculating the Average call duration:**\n",
    "    "
   ]
  },
  {
   "cell_type": "markdown",
   "id": "61f5581d",
   "metadata": {},
   "source": [
    "- In general "
   ]
  },
  {
   "cell_type": "code",
   "execution_count": 45,
   "id": "9744915b",
   "metadata": {},
   "outputs": [
    {
     "name": "stdout",
     "output_type": "stream",
     "text": [
      "59.485781990521325\n"
     ]
    }
   ],
   "source": [
    "print((sum_f+sum_m) / (female_counter+ male_counter))"
   ]
  },
  {
   "cell_type": "markdown",
   "id": "425c27be",
   "metadata": {},
   "source": [
    "- average call duration to a male"
   ]
  },
  {
   "cell_type": "code",
   "execution_count": 46,
   "id": "9cb79f20",
   "metadata": {},
   "outputs": [
    {
     "name": "stdout",
     "output_type": "stream",
     "text": [
      "96.81802426343154\n"
     ]
    }
   ],
   "source": [
    "avg_duration_m = sum_m/ male_counter\n",
    "print(avg_duration_m)"
   ]
  },
  {
   "cell_type": "markdown",
   "id": "7bbab95b",
   "metadata": {},
   "source": [
    "- average call duration to a female"
   ]
  },
  {
   "cell_type": "code",
   "execution_count": 47,
   "id": "a52e320f",
   "metadata": {},
   "outputs": [
    {
     "name": "stdout",
     "output_type": "stream",
     "text": [
      "48.46751918158568\n"
     ]
    }
   ],
   "source": [
    "avg_duration_f = sum_f / female_counter\n",
    "print(avg_duration_f)"
   ]
  },
  {
   "cell_type": "markdown",
   "id": "a599cde9",
   "metadata": {},
   "source": [
    "As we can see even though females are more likely to call a female, call to a male tend be longer than calls to a female by half a minute"
   ]
  },
  {
   "cell_type": "markdown",
   "id": "65788e20",
   "metadata": {},
   "source": [
    "# The average interaction between:\n",
    " - Males to Males\n",
    " - Males to females"
   ]
  },
  {
   "cell_type": "code",
   "execution_count": 48,
   "id": "c988a6c5",
   "metadata": {},
   "outputs": [
    {
     "name": "stdout",
     "output_type": "stream",
     "text": [
      "Number of calls made by a male is 853\n",
      "Number of calls received by a female is 581\n",
      "Number of calls received by a male is 272\n"
     ]
    }
   ],
   "source": [
    "female_counter = 0 \n",
    "male_counter = 0\n",
    "counter = 0\n",
    "sum_m = 0\n",
    "sum_f = 0\n",
    "for i,row in calls_df.iterrows():\n",
    "    caller =row['caller']\n",
    "    receiver = row['callee']\n",
    "    #print(caller)\n",
    "    \n",
    "    if caller in gender_df['user'].to_list() and receiver in gender_df['user'].to_list():\n",
    "         if  gender_df.loc[gender_df['user']==caller,'female'].item() == 1:\n",
    "                counter += 1\n",
    "                if gender_df.loc[gender_df['user']==receiver,'female'].item()== 0:\n",
    "                    female_counter += 1\n",
    "                    if row['duration']>0:\n",
    "                        sum_f += row['duration']\n",
    "                if gender_df.loc[gender_df['user']==receiver,'female'].item() == 1:\n",
    "                    male_counter += 1\n",
    "                    if row['duration']>0:\n",
    "                        sum_m += row['duration']\n",
    "print(\"Number of calls made by a male is \" + str(counter))   \n",
    "print(\"Number of calls received by a female is \" + str(female_counter)) \n",
    "print(\"Number of calls received by a male is \" + str(male_counter)) "
   ]
  },
  {
   "cell_type": "markdown",
   "id": "d38ec80b",
   "metadata": {},
   "source": [
    "# clustering coefficient"
   ]
  },
  {
   "cell_type": "code",
   "execution_count": 60,
   "id": "13ce298a",
   "metadata": {},
   "outputs": [],
   "source": [
    "def df_sub_period(period,df):\n",
    "    for i,row in df.iterrows():\n",
    "        if row['timestamp']>period:\n",
    "            df = df.drop(i)\n",
    "    return df"
   ]
  },
  {
   "cell_type": "markdown",
   "id": "acd88d1a",
   "metadata": {},
   "source": [
    "to calculate the clustring coefficient we need an undirected graph"
   ]
  },
  {
   "cell_type": "code",
   "execution_count": 61,
   "id": "8bc65f99",
   "metadata": {},
   "outputs": [],
   "source": [
    "def create_graph(df):\n",
    "    nodes = gender_df['user'].to_list() # list of all nodes\n",
    "    edges = [tuple(e) for e in zip(df['caller'].to_list(), df['callee'].to_list())] # list of all edges\n",
    "    G = nx.Graph()\n",
    "    G.add_nodes_from(nodes)\n",
    "    G.add_edges_from(edges)\n",
    "    return G"
   ]
  },
  {
   "cell_type": "markdown",
   "id": "8a2b4444",
   "metadata": {},
   "source": [
    "a week is seconds is 3600 * 24 * 7 which is 604,800 seconds"
   ]
  },
  {
   "cell_type": "code",
   "execution_count": 62,
   "id": "658cd03c",
   "metadata": {},
   "outputs": [],
   "source": [
    "def weekly_graph(week,df):\n",
    "    period = week * 3600 * 24\n",
    "    sub_df = df_sub_period(period, df)\n",
    "    G = create_graph(sub_df)\n",
    "    return G\n",
    "    "
   ]
  },
  {
   "cell_type": "code",
   "execution_count": 64,
   "id": "9075d69d",
   "metadata": {},
   "outputs": [],
   "source": [
    "females = []\n",
    "males = []\n",
    "for i,row in gender_df.iterrows():\n",
    "    if row['female'] == 1:\n",
    "        females.append(row['user'])\n",
    "    else:\n",
    "        males.append(row['user'])"
   ]
  },
  {
   "cell_type": "code",
   "execution_count": 159,
   "id": "acfc60c3",
   "metadata": {},
   "outputs": [],
   "source": [
    "def clustring_plt(clustring_coe,gender):   \n",
    "    fig = plt.figure()\n",
    "    ax = fig.add_axes([0,0,1,1])\n",
    "    weeks = ['one week', 'two weeks', 'three weeks', 'four weeks']\n",
    "    ax.bar(weeks,clustring_coe)\n",
    "    ax.set_title(\"Average Clustering Coefficient \"+gender+\" of Students in Calls Network\")\n",
    "    ax.set_ylabel('average value')\n",
    "    ax.set_xlabel('weeks')\n",
    "    plt.show()"
   ]
  },
  {
   "cell_type": "markdown",
   "id": "caafc392",
   "metadata": {},
   "source": [
    "# Females"
   ]
  },
  {
   "cell_type": "code",
   "execution_count": 160,
   "id": "c5b78ec8",
   "metadata": {},
   "outputs": [],
   "source": [
    "def results(nodes):    \n",
    "    G = weekly_graph(7, calls_df)\n",
    "\n",
    "    first_week = nx.average_clustering(G,nodes)\n",
    "\n",
    "    G = weekly_graph(14, calls_df)\n",
    "\n",
    "    second_week = nx.average_clustering(G,nodes)\n",
    "\n",
    "    G = weekly_graph(21, calls_df)\n",
    "\n",
    "    third_week = nx.average_clustering(G,nodes)\n",
    "\n",
    "    G = weekly_graph(28, calls_df)\n",
    "\n",
    "    fourth_week = nx.average_clustering(G,nodes)\n",
    "    \n",
    "    clustring_coe = [first_week,second_week,third_week,fourth_week]\n",
    "    return clustring_coe"
   ]
  },
  {
   "cell_type": "code",
   "execution_count": 161,
   "id": "ee589d72",
   "metadata": {},
   "outputs": [
    {
     "data": {
      "image/png": "[encoded data removed]",
      "text/plain": [
       "<Figure size 432x288 with 1 Axes>"
      ]
     },
     "metadata": {
      "needs_background": "light"
     },
     "output_type": "display_data"
    }
   ],
   "source": [
    "gender = 'female'\n",
    "clustring_plt(results(females),gender)"
   ]
  },
  {
   "cell_type": "code",
   "execution_count": 162,
   "id": "9fb082b2",
   "metadata": {},
   "outputs": [
    {
     "data": {
      "image/png": "[encoded data removed]",
      "text/plain": [
       "<Figure size 432x288 with 1 Axes>"
      ]
     },
     "metadata": {
      "needs_background": "light"
     },
     "output_type": "display_data"
    }
   ],
   "source": [
    "gender = 'male'\n",
    "clustring_plt(results(males),gender)"
   ]
  },
  {
   "cell_type": "code",
   "execution_count": 163,
   "id": "2ffc8d63",
   "metadata": {},
   "outputs": [
    {
     "data": {
      "image/png": "[encoded data removed]",
      "text/plain": [
       "<Figure size 432x288 with 1 Axes>"
      ]
     },
     "metadata": {
      "needs_background": "light"
     },
     "output_type": "display_data"
    }
   ],
   "source": [
    "clustring_plt(results(gender_df['user']),\"\")"
   ]
  },
  {
   "cell_type": "markdown",
   "id": "bf1228a2",
   "metadata": {},
   "source": [
    "# Triangles:"
   ]
  },
  {
   "cell_type": "code",
   "execution_count": 135,
   "id": "031a3ebd",
   "metadata": {},
   "outputs": [],
   "source": [
    "\n",
    "def get_triangles(G):\n",
    "    result = []\n",
    "    list =[]\n",
    "    nodes = G.nodes()\n",
    "    for n1 in nodes:\n",
    "        neighbors1 = set(G[n1])\n",
    "        for n2 in filter(lambda x: x>n1, nodes):\n",
    "            neighbors2 = set(G[n2])\n",
    "            common = neighbors1 & neighbors2\n",
    "            for n3 in filter(lambda x: x>n2, common):\n",
    "                result.append(n1)\n",
    "                result.append(n2)\n",
    "                result.append(n3)\n",
    "                list.append(result)\n",
    "                #yield n1, n2, n3\n",
    "    return list"
   ]
  },
  {
   "cell_type": "code",
   "execution_count": 136,
   "id": "292212b4",
   "metadata": {},
   "outputs": [],
   "source": [
    "G = create_graph(calls_df)\n",
    "generator = get_triangles(G)\n"
   ]
  },
  {
   "cell_type": "code",
   "execution_count": 130,
   "id": "1ecaf8f5",
   "metadata": {},
   "outputs": [],
   "source": [
    "all_cliques= nx.enumerate_all_cliques(G)"
   ]
  },
  {
   "cell_type": "code",
   "execution_count": 131,
   "id": "83cb1724",
   "metadata": {},
   "outputs": [],
   "source": [
    "triad_cliques=[x for x in all_cliques if len(x)==3 ]"
   ]
  },
  {
   "cell_type": "markdown",
   "id": "5b18a054",
   "metadata": {},
   "source": [
    "for each triangle, find if it's a homophilly or a hetrophilly, "
   ]
  },
  {
   "cell_type": "code",
   "execution_count": 155,
   "id": "c72abb14",
   "metadata": {},
   "outputs": [],
   "source": [
    "\n",
    "def tri(triad_cliques):\n",
    "    female_homo =0\n",
    "    male_homo = 0\n",
    "    male_hetro =0\n",
    "    female_hetro=0\n",
    "    for tri in triad_cliques:\n",
    "        female_count = 0\n",
    "        male_count = 0\n",
    "        for node in tri:\n",
    "            if node in gender_df['user'].to_list():\n",
    "                if gender_df.loc[gender_df['user'] == node,'female'].item() == 0:\n",
    "                    male_count += 1\n",
    "                else:\n",
    "                    female_count += 1\n",
    "        if male_count == 0:\n",
    "            female_homo += 1\n",
    "        elif female_count == 0:\n",
    "            male_homo +=1\n",
    "        elif female_count > male_count and male_count!=0:\n",
    "            female_hetro += 1\n",
    "        elif male_count> female_count and female_count!=0:\n",
    "            male_hetro += 1\n",
    "#         print(tri)\n",
    "#         print(\"females: \"+str(female_count))\n",
    "#         print(\"males: \"+str(male_count))\n",
    "    print(\"female homophilly: \"+str(female_homo))\n",
    "    print(\"male homophilly: \"+str(male_homo))\n",
    "    print(\"male hetrophilly: \"+str(male_hetro))\n",
    "    print(\"female hetrophilly: \"+str(female_hetro))\n",
    "    return female_homo, female_hetro, male_homo, male_hetro"
   ]
  },
  {
   "cell_type": "code",
   "execution_count": 156,
   "id": "0908b29a",
   "metadata": {},
   "outputs": [
    {
     "name": "stdout",
     "output_type": "stream",
     "text": [
      "female homophilly: 5\n",
      "male homophilly: 57\n",
      "male hetrophilly: 31\n",
      "female hetrophilly: 10\n"
     ]
    },
    {
     "data": {
      "text/plain": [
       "(5, 10, 57, 31)"
      ]
     },
     "execution_count": 156,
     "metadata": {},
     "output_type": "execute_result"
    }
   ],
   "source": [
    "tri(triad_cliques)"
   ]
  },
  {
   "cell_type": "code",
   "execution_count": 157,
   "id": "4ad5c090",
   "metadata": {},
   "outputs": [],
   "source": [
    "def tri_plt(tri):   \n",
    "    fig = plt.figure()\n",
    "    ax = fig.add_axes([0,0,1,1])\n",
    "    group = ['Females only', '2 Females, 1 Male', 'Males only', '2 Males, 1 Female']\n",
    "    ax.bar(group,tri)\n",
    "    ax.set_title(\"Gender in Triangles formed in calls Network\")\n",
    "    ax.set_ylabel('count')\n",
    "    ax.set_xlabel('group')\n",
    "#     for index, value in enumerate(clustring_coe):\n",
    "#         plt.text(value, index, str(value))\n",
    "    plt.show()"
   ]
  },
  {
   "cell_type": "code",
   "execution_count": 158,
   "id": "a63e0008",
   "metadata": {},
   "outputs": [
    {
     "name": "stdout",
     "output_type": "stream",
     "text": [
      "female homophilly: 5\n",
      "male homophilly: 57\n",
      "male hetrophilly: 31\n",
      "female hetrophilly: 10\n"
     ]
    },
    {
     "data": {
      "image/png": "[encoded data removed]",
      "text/plain": [
       "<Figure size 432x288 with 1 Axes>"
      ]
     },
     "metadata": {
      "needs_background": "light"
     },
     "output_type": "display_data"
    }
   ],
   "source": [
    "tri_plt(tri(triad_cliques))"
   ]
  },
  {
   "cell_type": "code",
   "execution_count": null,
   "id": "685ed395",
   "metadata": {},
   "outputs": [],
   "source": []
  }
 ],
 "metadata": {
  "kernelspec": {
   "display_name": "Python 3",
   "language": "python",
   "name": "python3"
  },
  "language_info": {
   "codemirror_mode": {
    "name": "ipython",
    "version": 3
   },
   "file_extension": ".py",
   "mimetype": "text/x-python",
   "name": "python",
   "nbconvert_exporter": "python",
   "pygments_lexer": "ipython3",
   "version": "3.8.8"
  }
 },
 "nbformat": 4,
 "nbformat_minor": 5
}
