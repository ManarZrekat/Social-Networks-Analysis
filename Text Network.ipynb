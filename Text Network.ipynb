{
 "cells": [
  {
   "cell_type": "markdown",
   "id": "39b11aa4",
   "metadata": {},
   "source": [
    "# **Text Network**"
   ]
  },
  {
   "cell_type": "code",
   "execution_count": 8,
   "id": "481f347a",
   "metadata": {},
   "outputs": [],
   "source": [
    "import pandas as pd\n",
    "import numpy as np \n",
    "import csv\n",
    "import networkx as nx\n",
    "import matplotlib.pyplot as plt"
   ]
  },
  {
   "cell_type": "code",
   "execution_count": 9,
   "id": "6fdad696",
   "metadata": {},
   "outputs": [],
   "source": [
    "texts_file = \"sms.csv\"\n",
    "genders_file = \"genders.csv\""
   ]
  },
  {
   "cell_type": "markdown",
   "id": "e9310643",
   "metadata": {},
   "source": [
    "# **Nodes**"
   ]
  },
  {
   "cell_type": "code",
   "execution_count": 10,
   "id": "b0d84bc6",
   "metadata": {},
   "outputs": [
    {
     "data": {
      "text/html": [
       "<div>\n",
       "<style scoped>\n",
       "    .dataframe tbody tr th:only-of-type {\n",
       "        vertical-align: middle;\n",
       "    }\n",
       "\n",
       "    .dataframe tbody tr th {\n",
       "        vertical-align: top;\n",
       "    }\n",
       "\n",
       "    .dataframe thead th {\n",
       "        text-align: right;\n",
       "    }\n",
       "</style>\n",
       "<table border=\"1\" class=\"dataframe\">\n",
       "  <thead>\n",
       "    <tr style=\"text-align: right;\">\n",
       "      <th></th>\n",
       "      <th># user</th>\n",
       "      <th>female</th>\n",
       "    </tr>\n",
       "  </thead>\n",
       "  <tbody>\n",
       "    <tr>\n",
       "      <th>0</th>\n",
       "      <td>0</td>\n",
       "      <td>0</td>\n",
       "    </tr>\n",
       "    <tr>\n",
       "      <th>1</th>\n",
       "      <td>2</td>\n",
       "      <td>0</td>\n",
       "    </tr>\n",
       "    <tr>\n",
       "      <th>2</th>\n",
       "      <td>3</td>\n",
       "      <td>0</td>\n",
       "    </tr>\n",
       "    <tr>\n",
       "      <th>3</th>\n",
       "      <td>4</td>\n",
       "      <td>0</td>\n",
       "    </tr>\n",
       "    <tr>\n",
       "      <th>4</th>\n",
       "      <td>5</td>\n",
       "      <td>0</td>\n",
       "    </tr>\n",
       "  </tbody>\n",
       "</table>\n",
       "</div>"
      ],
      "text/plain": [
       "   # user  female\n",
       "0       0       0\n",
       "1       2       0\n",
       "2       3       0\n",
       "3       4       0\n",
       "4       5       0"
      ]
     },
     "execution_count": 10,
     "metadata": {},
     "output_type": "execute_result"
    }
   ],
   "source": [
    "gender_df = pd.read_csv(genders_file)\n",
    "gender_df.head()"
   ]
  },
  {
   "cell_type": "code",
   "execution_count": 11,
   "id": "f1bfb1f9",
   "metadata": {},
   "outputs": [],
   "source": [
    "gender_df = gender_df.rename(columns={'# user' : 'user'})"
   ]
  },
  {
   "cell_type": "code",
   "execution_count": 12,
   "id": "de4ac78a",
   "metadata": {},
   "outputs": [
    {
     "data": {
      "text/plain": [
       "0    614\n",
       "1    173\n",
       "Name: female, dtype: int64"
      ]
     },
     "execution_count": 12,
     "metadata": {},
     "output_type": "execute_result"
    }
   ],
   "source": [
    "gender_df['female'].value_counts()"
   ]
  },
  {
   "cell_type": "code",
   "execution_count": 13,
   "id": "340e3b47",
   "metadata": {},
   "outputs": [
    {
     "data": {
      "text/plain": [
       "([<matplotlib.patches.Wedge at 0x1a331f51ca0>,\n",
       "  <matplotlib.patches.Wedge at 0x1a331f5f3d0>],\n",
       " [Text(-0.7006926077430178, -0.8479562898253008, 'male'),\n",
       "  Text(0.7643919357196559, 0.9250432252639644, 'female')],\n",
       " [Text(-0.38219596785982785, -0.4625216126319822, '78.0%'),\n",
       "  Text(0.4458952958364659, 0.5396085480706458, '22.0%')])"
      ]
     },
     "execution_count": 13,
     "metadata": {},
     "output_type": "execute_result"
    },
    {
     "data": {
      "image/png": "[encoded data removed]",
      "text/plain": [
       "<Figure size 432x288 with 1 Axes>"
      ]
     },
     "metadata": {},
     "output_type": "display_data"
    }
   ],
   "source": [
    "plt.pie(x=gender_df['female'].value_counts() ,\n",
    "               explode=(0, 0.1), labels = ['male','female'],\n",
    "               colors=['#66b3ff','#ff9999'],autopct='%1.1f%%',startangle=90)"
   ]
  },
  {
   "cell_type": "markdown",
   "id": "d7af769e",
   "metadata": {},
   "source": [
    "# Edges"
   ]
  },
  {
   "cell_type": "code",
   "execution_count": 20,
   "id": "8b9c9a6c",
   "metadata": {},
   "outputs": [
    {
     "data": {
      "text/html": [
       "<div>\n",
       "<style scoped>\n",
       "    .dataframe tbody tr th:only-of-type {\n",
       "        vertical-align: middle;\n",
       "    }\n",
       "\n",
       "    .dataframe tbody tr th {\n",
       "        vertical-align: top;\n",
       "    }\n",
       "\n",
       "    .dataframe thead th {\n",
       "        text-align: right;\n",
       "    }\n",
       "</style>\n",
       "<table border=\"1\" class=\"dataframe\">\n",
       "  <thead>\n",
       "    <tr style=\"text-align: right;\">\n",
       "      <th></th>\n",
       "      <th>timestamp</th>\n",
       "      <th>sender</th>\n",
       "      <th>recipient</th>\n",
       "    </tr>\n",
       "  </thead>\n",
       "  <tbody>\n",
       "    <tr>\n",
       "      <th>0</th>\n",
       "      <td>18</td>\n",
       "      <td>370</td>\n",
       "      <td>512</td>\n",
       "    </tr>\n",
       "    <tr>\n",
       "      <th>1</th>\n",
       "      <td>37</td>\n",
       "      <td>512</td>\n",
       "      <td>370</td>\n",
       "    </tr>\n",
       "    <tr>\n",
       "      <th>2</th>\n",
       "      <td>126</td>\n",
       "      <td>370</td>\n",
       "      <td>512</td>\n",
       "    </tr>\n",
       "    <tr>\n",
       "      <th>3</th>\n",
       "      <td>134</td>\n",
       "      <td>0</td>\n",
       "      <td>512</td>\n",
       "    </tr>\n",
       "    <tr>\n",
       "      <th>4</th>\n",
       "      <td>312</td>\n",
       "      <td>137</td>\n",
       "      <td>136</td>\n",
       "    </tr>\n",
       "    <tr>\n",
       "      <th>...</th>\n",
       "      <td>...</td>\n",
       "      <td>...</td>\n",
       "      <td>...</td>\n",
       "    </tr>\n",
       "    <tr>\n",
       "      <th>24328</th>\n",
       "      <td>2415198</td>\n",
       "      <td>238</td>\n",
       "      <td>26</td>\n",
       "    </tr>\n",
       "    <tr>\n",
       "      <th>24329</th>\n",
       "      <td>2416413</td>\n",
       "      <td>137</td>\n",
       "      <td>136</td>\n",
       "    </tr>\n",
       "    <tr>\n",
       "      <th>24330</th>\n",
       "      <td>2417238</td>\n",
       "      <td>136</td>\n",
       "      <td>137</td>\n",
       "    </tr>\n",
       "    <tr>\n",
       "      <th>24331</th>\n",
       "      <td>2417633</td>\n",
       "      <td>323</td>\n",
       "      <td>392</td>\n",
       "    </tr>\n",
       "    <tr>\n",
       "      <th>24332</th>\n",
       "      <td>2418982</td>\n",
       "      <td>706</td>\n",
       "      <td>108</td>\n",
       "    </tr>\n",
       "  </tbody>\n",
       "</table>\n",
       "<p>24333 rows × 3 columns</p>\n",
       "</div>"
      ],
      "text/plain": [
       "       timestamp  sender  recipient\n",
       "0             18     370        512\n",
       "1             37     512        370\n",
       "2            126     370        512\n",
       "3            134       0        512\n",
       "4            312     137        136\n",
       "...          ...     ...        ...\n",
       "24328    2415198     238         26\n",
       "24329    2416413     137        136\n",
       "24330    2417238     136        137\n",
       "24331    2417633     323        392\n",
       "24332    2418982     706        108\n",
       "\n",
       "[24333 rows x 3 columns]"
      ]
     },
     "execution_count": 20,
     "metadata": {},
     "output_type": "execute_result"
    }
   ],
   "source": [
    "texts_df = pd.read_csv(texts_file)\n",
    "texts_df"
   ]
  },
  {
   "cell_type": "markdown",
   "id": "99bb83c2",
   "metadata": {},
   "source": [
    "**Cleaning the data**\n"
   ]
  },
  {
   "cell_type": "code",
   "execution_count": null,
   "id": "6ace9b35",
   "metadata": {},
   "outputs": [],
   "source": []
  },
  {
   "cell_type": "code",
   "execution_count": null,
   "id": "8b1c6a1a",
   "metadata": {},
   "outputs": [],
   "source": []
  },
  {
   "cell_type": "code",
   "execution_count": 21,
   "id": "cda651e0",
   "metadata": {},
   "outputs": [],
   "source": [
    "nodes = gender_df['user'].to_list() # list of all nodes\n",
    "text_edges = [tuple(e) for e in zip(texts_df['sender'].to_list(), texts_df['recipient'].to_list())] # list of all edges"
   ]
  },
  {
   "cell_type": "markdown",
   "id": "8de3df0f",
   "metadata": {},
   "source": [
    "# **The average interactions between:**\n",
    " - Females to Females\n",
    " - Females to Males"
   ]
  },
  {
   "cell_type": "code",
   "execution_count": 22,
   "id": "c726f3c7",
   "metadata": {},
   "outputs": [
    {
     "name": "stdout",
     "output_type": "stream",
     "text": [
      "Number of texts sent by a female is 13514\n",
      "Number of texts received by a female is 7287\n",
      "Number of texts received by a male is 6227\n"
     ]
    }
   ],
   "source": [
    "female_counter = 0 \n",
    "male_counter = 0\n",
    "counter = 0\n",
    "for i,row in texts_df.iterrows():\n",
    "    sender =row['sender']\n",
    "    recipient = row['recipient']\n",
    "    #print(caller)\n",
    "    \n",
    "    if sender in gender_df['user'].to_list() and recipient in gender_df['user'].to_list():\n",
    "         if  gender_df.loc[gender_df['user']==sender,'female'].item() == 0:\n",
    "                counter += 1\n",
    "                if  gender_df.loc[gender_df['user']==recipient,'female'].item() == 0:\n",
    "                    female_counter += 1\n",
    "                if gender_df.loc[gender_df['user']==recipient,'female'].item() == 1:\n",
    "                    male_counter += 1\n",
    "print(\"Number of texts sent by a female is \" + str(counter))   \n",
    "print(\"Number of texts received by a female is \" + str(female_counter)) \n",
    "print(\"Number of texts received by a male is \" + str(male_counter)) "
   ]
  },
  {
   "cell_type": "markdown",
   "id": "7dba9b8c",
   "metadata": {},
   "source": [
    "Plotting the percentages of calls made by a female to a male and to a female"
   ]
  },
  {
   "cell_type": "code",
   "execution_count": 23,
   "id": "f1f2ebdf",
   "metadata": {},
   "outputs": [
    {
     "data": {
      "text/plain": [
       "([<matplotlib.patches.Wedge at 0x1a332176c70>,\n",
       "  <matplotlib.patches.Wedge at 0x1a3321823a0>],\n",
       " [Text(-1.0916613339358763, 0.13518702596530227, 'male'),\n",
       "  Text(1.1909032871923575, -0.14747664409809966, 'female')],\n",
       " [Text(-0.5954516366922961, 0.07373837779925578, '46.1%'),\n",
       "  Text(0.6946935841955417, -0.08602804239055814, '53.9%')])"
      ]
     },
     "execution_count": 23,
     "metadata": {},
     "output_type": "execute_result"
    },
    {
     "data": {
      "image/png": "[encoded data removed]",
      "text/plain": [
       "<Figure size 432x288 with 1 Axes>"
      ]
     },
     "metadata": {},
     "output_type": "display_data"
    }
   ],
   "source": [
    "y = np.array([male_counter,female_counter])\n",
    "\n",
    "plt.pie(x= y,\n",
    "               explode=(0, 0.1), labels = ['male','female'],\n",
    "               colors=['#66b3ff','#ff9999'],autopct='%1.1f%%',startangle=90)"
   ]
  },
  {
   "cell_type": "markdown",
   "id": "696f9947",
   "metadata": {},
   "source": [
    "# The average interaction between:\n",
    " - Males to Males\n",
    " - Males to females"
   ]
  },
  {
   "cell_type": "code",
   "execution_count": 29,
   "id": "9dd045a8",
   "metadata": {},
   "outputs": [
    {
     "name": "stdout",
     "output_type": "stream",
     "text": [
      "Number of texts sent by a male is 9555\n",
      "Number of texts received by a female is 6766\n",
      "Number of texts received by a male is 2789\n"
     ]
    }
   ],
   "source": [
    "female_counter = 0 \n",
    "male_counter = 0\n",
    "counter = 0\n",
    "for i,row in texts_df.iterrows():\n",
    "    sender =row['sender']\n",
    "    recipient = row['recipient']\n",
    "    #print(caller)\n",
    "    \n",
    "    if sender in gender_df['user'].to_list() and recipient in gender_df['user'].to_list():\n",
    "         if gender_df.loc[gender_df['user']==sender,'female'].item()== 1:\n",
    "                counter += 1\n",
    "                if gender_df.loc[gender_df['user']==recipient,'female'].item()== 0:\n",
    "                    female_counter += 1\n",
    "                if gender_df.loc[gender_df['user']==recipient,'female'].item() == 1:\n",
    "                    male_counter += 1\n",
    "print(\"Number of texts sent by a male is \" + str(counter))   \n",
    "print(\"Number of texts received by a female is \" + str(female_counter)) \n",
    "print(\"Number of texts received by a male is \" + str(male_counter)) "
   ]
  },
  {
   "cell_type": "code",
   "execution_count": 30,
   "id": "7926be27",
   "metadata": {},
   "outputs": [
    {
     "data": {
      "text/plain": [
       "([<matplotlib.patches.Wedge at 0x1a3322935e0>,\n",
       "  <matplotlib.patches.Wedge at 0x1a332293cd0>],\n",
       " [Text(-0.8731563405703522, 0.6690276563205674, 'male'),\n",
       "  Text(0.9525341897131113, -0.72984835234971, 'female')],\n",
       " [Text(-0.47626709485655566, 0.3649241761748549, '29.2%'),\n",
       "  Text(0.5556449439993149, -0.4257448722039975, '70.8%')])"
      ]
     },
     "execution_count": 30,
     "metadata": {},
     "output_type": "execute_result"
    },
    {
     "data": {
      "image/png": "[encoded data removed]",
      "text/plain": [
       "<Figure size 432x288 with 1 Axes>"
      ]
     },
     "metadata": {},
     "output_type": "display_data"
    }
   ],
   "source": [
    "y = np.array([male_counter,female_counter])\n",
    "\n",
    "plt.pie(x= y,\n",
    "               explode=(0, 0.1), labels = ['male','female'],\n",
    "               colors=['#66b3ff','#ff9999'],autopct='%1.1f%%',startangle=90)"
   ]
  },
  {
   "cell_type": "markdown",
   "id": "ecbf571e",
   "metadata": {},
   "source": [
    "# Clustring Coefficient"
   ]
  },
  {
   "cell_type": "code",
   "execution_count": 38,
   "id": "db383576",
   "metadata": {},
   "outputs": [],
   "source": [
    "def df_sub_period(period,df):\n",
    "    for i,row in df.iterrows():\n",
    "        if row['timestamp']>period:\n",
    "            df = df.drop(i)\n",
    "    return df"
   ]
  },
  {
   "cell_type": "code",
   "execution_count": 39,
   "id": "8d4a7a6a",
   "metadata": {},
   "outputs": [],
   "source": [
    "def create_graph(df):\n",
    "    nodes = gender_df['user'].to_list() # list of all nodes\n",
    "    edges = [tuple(e) for e in zip(df['sender'].to_list(), df['recipient'].to_list())] # list of all edges\n",
    "    G = nx.Graph()\n",
    "    G.add_nodes_from(nodes)\n",
    "    G.add_edges_from(edges)\n",
    "    return G"
   ]
  },
  {
   "cell_type": "code",
   "execution_count": 40,
   "id": "dd589430",
   "metadata": {},
   "outputs": [],
   "source": [
    "def weekly_graph(week,df):\n",
    "    period = week * 3600 * 24\n",
    "    sub_df = df_sub_period(period, df)\n",
    "    G = create_graph(sub_df)\n",
    "    return G\n",
    "    "
   ]
  },
  {
   "cell_type": "code",
   "execution_count": 41,
   "id": "aa390b3f",
   "metadata": {},
   "outputs": [],
   "source": [
    "females = []\n",
    "males = []\n",
    "for i,row in gender_df.iterrows():\n",
    "    if row['female'] == 1:\n",
    "        females.append(row['user'])\n",
    "    else:\n",
    "        males.append(row['user'])"
   ]
  },
  {
   "cell_type": "code",
   "execution_count": 77,
   "id": "66eb0b2b",
   "metadata": {},
   "outputs": [],
   "source": [
    "def clustring_plt(clustring_coe,gender):   \n",
    "    fig = plt.figure()\n",
    "    ax = fig.add_axes([0,0,1,1])\n",
    "    weeks = ['one week', 'two weeks', 'three weeks', 'four weeks']\n",
    "\n",
    "    ax.bar(weeks,clustring_coe)\n",
    "    ax.set_title(\"Average Clustering Coefficient of \"+gender+ \" Students in Texts Network\")\n",
    "    ax.set_ylabel('average value')\n",
    "    ax.set_xlabel('weeks')\n",
    "#     for index, value in enumerate(clustring_coe):\n",
    "#         plt.text(value, index, str(value))\n",
    "    plt.show()"
   ]
  },
  {
   "cell_type": "code",
   "execution_count": 78,
   "id": "7674c85e",
   "metadata": {},
   "outputs": [],
   "source": [
    "def results(nodes):    \n",
    "    G = weekly_graph(7, texts_df)\n",
    "\n",
    "    first_week = nx.average_clustering(G,nodes)\n",
    "\n",
    "    G = weekly_graph(14, texts_df)\n",
    "\n",
    "    second_week = nx.average_clustering(G,nodes)\n",
    "\n",
    "    G = weekly_graph(21, texts_df)\n",
    "\n",
    "    third_week = nx.average_clustering(G,nodes)\n",
    "\n",
    "    G = weekly_graph(28, texts_df)\n",
    "\n",
    "    fourth_week = nx.average_clustering(G,nodes)\n",
    "    \n",
    "    clustring_coe = [first_week,second_week,third_week,fourth_week]\n",
    "    return clustring_coe"
   ]
  },
  {
   "cell_type": "code",
   "execution_count": 79,
   "id": "2ecc1223",
   "metadata": {},
   "outputs": [
    {
     "data": {
      "image/png": "[encoded data removed]",
      "text/plain": [
       "<Figure size 432x288 with 1 Axes>"
      ]
     },
     "metadata": {
      "needs_background": "light"
     },
     "output_type": "display_data"
    }
   ],
   "source": [
    "clustring_plt(results(females),\"Female\")"
   ]
  },
  {
   "cell_type": "code",
   "execution_count": 80,
   "id": "439c0774",
   "metadata": {
    "scrolled": false
   },
   "outputs": [
    {
     "data": {
      "image/png": "[encoded data removed]",
      "text/plain": [
       "<Figure size 432x288 with 1 Axes>"
      ]
     },
     "metadata": {
      "needs_background": "light"
     },
     "output_type": "display_data"
    }
   ],
   "source": [
    "clustring_plt(results(males),\"Male\")"
   ]
  },
  {
   "cell_type": "code",
   "execution_count": 81,
   "id": "e7cf0043",
   "metadata": {},
   "outputs": [
    {
     "data": {
      "image/png": "[encoded data removed]",
      "text/plain": [
       "<Figure size 432x288 with 1 Axes>"
      ]
     },
     "metadata": {
      "needs_background": "light"
     },
     "output_type": "display_data"
    }
   ],
   "source": [
    "clustring_plt(results(gender_df['user']),\"\")"
   ]
  },
  {
   "cell_type": "code",
   "execution_count": 68,
   "id": "7e27ecdf",
   "metadata": {},
   "outputs": [],
   "source": [
    "G = create_graph(texts_df)"
   ]
  },
  {
   "cell_type": "code",
   "execution_count": 69,
   "id": "2861e87c",
   "metadata": {},
   "outputs": [],
   "source": [
    "all_cliques= nx.enumerate_all_cliques(G)\n",
    "triad_cliques=[x for x in all_cliques if len(x)==3 ]"
   ]
  },
  {
   "cell_type": "code",
   "execution_count": 72,
   "id": "70eee29e",
   "metadata": {},
   "outputs": [],
   "source": [
    "\n",
    "def tri(triad_cliques):\n",
    "    female_homo =0\n",
    "    male_homo = 0\n",
    "    male_hetro =0\n",
    "    female_hetro=0\n",
    "    for tri in triad_cliques:\n",
    "        female_count = 0\n",
    "        male_count = 0\n",
    "        for node in tri:\n",
    "            if node in gender_df['user'].to_list():\n",
    "                if gender_df.loc[gender_df['user'] == node,'female'].item() == 0:\n",
    "                    male_count += 1\n",
    "                else:\n",
    "                    female_count += 1\n",
    "        if male_count == 0:\n",
    "            female_homo += 1\n",
    "        elif female_count == 0:\n",
    "            male_homo +=1\n",
    "        elif female_count > male_count and male_count!=0:\n",
    "            female_hetro += 1\n",
    "        elif male_count> female_count and female_count!=0:\n",
    "            male_hetro += 1\n",
    "#         print(tri)\n",
    "#         print(\"females: \"+str(female_count))\n",
    "#         print(\"males: \"+str(male_count))\n",
    "    print(\"female homophilly: \"+str(female_homo))\n",
    "    print(\"male homophilly: \"+str(male_homo))\n",
    "    print(\"male hetrophilly: \"+str(male_hetro))\n",
    "    print(\"female hetrophilly: \"+str(female_hetro))\n",
    "    return female_homo, female_hetro, male_homo, male_hetro"
   ]
  },
  {
   "cell_type": "code",
   "execution_count": 73,
   "id": "87895e36",
   "metadata": {},
   "outputs": [
    {
     "name": "stdout",
     "output_type": "stream",
     "text": [
      "female homophilly: 7\n",
      "male homophilly: 53\n",
      "male hetrophilly: 28\n",
      "female hetrophilly: 5\n"
     ]
    },
    {
     "data": {
      "text/plain": [
       "(7, 5, 53, 28)"
      ]
     },
     "execution_count": 73,
     "metadata": {},
     "output_type": "execute_result"
    }
   ],
   "source": [
    "tri(triad_cliques)"
   ]
  },
  {
   "cell_type": "markdown",
   "id": "c49f99b8",
   "metadata": {},
   "source": [
    "to get more accurate result we get that with the average of female students and average of male students"
   ]
  },
  {
   "cell_type": "code",
   "execution_count": 75,
   "id": "f1b4f345",
   "metadata": {},
   "outputs": [],
   "source": [
    "def tri_plt(tri):   \n",
    "    fig = plt.figure()\n",
    "    ax = fig.add_axes([0,0,1,1])\n",
    "    group = ['Females only', '2 Females, 1 Male', 'Males only', '2 Males, 1 Female']\n",
    "    ax.bar(group,tri)\n",
    "    ax.set_title(\"Gender in Triangles formed in Texts Network\")\n",
    "    ax.set_ylabel('count')\n",
    "    ax.set_xlabel('group')\n",
    "#     for index, value in enumerate(clustring_coe):\n",
    "#         plt.text(value, index, str(value))\n",
    "    plt.show()"
   ]
  },
  {
   "cell_type": "code",
   "execution_count": 76,
   "id": "05b7bcca",
   "metadata": {},
   "outputs": [
    {
     "name": "stdout",
     "output_type": "stream",
     "text": [
      "female homophilly: 7\n",
      "male homophilly: 53\n",
      "male hetrophilly: 28\n",
      "female hetrophilly: 5\n"
     ]
    },
    {
     "data": {
      "image/png": "[encoded data removed]",
      "text/plain": [
       "<Figure size 432x288 with 1 Axes>"
      ]
     },
     "metadata": {
      "needs_background": "light"
     },
     "output_type": "display_data"
    }
   ],
   "source": [
    "tri_plt(tri(triad_cliques))"
   ]
  },
  {
   "cell_type": "code",
   "execution_count": null,
   "id": "874cc9b6",
   "metadata": {},
   "outputs": [],
   "source": []
  }
 ],
 "metadata": {
  "kernelspec": {
   "display_name": "Python 3",
   "language": "python",
   "name": "python3"
  },
  "language_info": {
   "codemirror_mode": {
    "name": "ipython",
    "version": 3
   },
   "file_extension": ".py",
   "mimetype": "text/x-python",
   "name": "python",
   "nbconvert_exporter": "python",
   "pygments_lexer": "ipython3",
   "version": "3.8.8"
  }
 },
 "nbformat": 4,
 "nbformat_minor": 5
}
